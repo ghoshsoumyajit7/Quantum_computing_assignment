{
  "cells": [
    {
      "cell_type": "markdown",
      "metadata": {
        "id": "view-in-github",
        "colab_type": "text"
      },
      "source": [
        "<a href=\"https://colab.research.google.com/github/ghoshsoumyajit7/Quantum_computing_assignment/blob/main/Grover's(Marked_State_%7C11%3E).ipynb\" target=\"_parent\"><img src=\"https://colab.research.google.com/assets/colab-badge.svg\" alt=\"Open In Colab\"/></a>"
      ]
    },
    {
      "cell_type": "markdown",
      "id": "5ae0e4da-2d21-4c69-a97f-8468ca703a90",
      "metadata": {
        "id": "5ae0e4da-2d21-4c69-a97f-8468ca703a90"
      },
      "source": [
        "# Grover's Algorithm (2 Qubit) to Find Marked State '|11>'\n",
        "\n",
        "\n"
      ]
    },
    {
      "cell_type": "code",
      "execution_count": 1,
      "id": "de0c056c-bffe-4dc3-8611-3ec880431315",
      "metadata": {
        "colab": {
          "base_uri": "https://localhost:8080/"
        },
        "id": "de0c056c-bffe-4dc3-8611-3ec880431315",
        "outputId": "59c0203c-0f0f-405e-c97f-bd79e9abfa1c"
      },
      "outputs": [
        {
          "output_type": "stream",
          "name": "stdout",
          "text": [
            "\u001b[2K   \u001b[90m━━━━━━━━━━━━━━━━━━━━━━━━━━━━━━━━━━━━━━━━\u001b[0m \u001b[32m6.5/6.5 MB\u001b[0m \u001b[31m42.1 MB/s\u001b[0m eta \u001b[36m0:00:00\u001b[0m\n",
            "\u001b[2K   \u001b[90m━━━━━━━━━━━━━━━━━━━━━━━━━━━━━━━━━━━━━━━━\u001b[0m \u001b[32m12.4/12.4 MB\u001b[0m \u001b[31m40.5 MB/s\u001b[0m eta \u001b[36m0:00:00\u001b[0m\n",
            "\u001b[2K   \u001b[90m━━━━━━━━━━━━━━━━━━━━━━━━━━━━━━━━━━━━━━━━\u001b[0m \u001b[32m2.1/2.1 MB\u001b[0m \u001b[31m19.0 MB/s\u001b[0m eta \u001b[36m0:00:00\u001b[0m\n",
            "\u001b[2K   \u001b[90m━━━━━━━━━━━━━━━━━━━━━━━━━━━━━━━━━━━━━━━━\u001b[0m \u001b[32m49.5/49.5 kB\u001b[0m \u001b[31m2.7 MB/s\u001b[0m eta \u001b[36m0:00:00\u001b[0m\n",
            "\u001b[2K   \u001b[90m━━━━━━━━━━━━━━━━━━━━━━━━━━━━━━━━━━━━━━━━\u001b[0m \u001b[32m49.7/49.7 MB\u001b[0m \u001b[31m9.9 MB/s\u001b[0m eta \u001b[36m0:00:00\u001b[0m\n",
            "\u001b[2K   \u001b[90m━━━━━━━━━━━━━━━━━━━━━━━━━━━━━━━━━━━━━━━━\u001b[0m \u001b[32m109.0/109.0 kB\u001b[0m \u001b[31m4.5 MB/s\u001b[0m eta \u001b[36m0:00:00\u001b[0m\n",
            "\u001b[?25h"
          ]
        }
      ],
      "source": [
        "!pip install qiskit qiskit-aer matplotlib --quiet\n",
        "\n",
        "from qiskit import QuantumCircuit, transpile\n",
        "from qiskit_aer import Aer\n",
        "from qiskit.visualization import plot_histogram\n",
        "import matplotlib.pyplot as plt\n"
      ]
    },
    {
      "cell_type": "code",
      "execution_count": 2,
      "id": "05cedcd7-b6c7-4396-9400-5ad58cdafcf1",
      "metadata": {
        "id": "05cedcd7-b6c7-4396-9400-5ad58cdafcf1"
      },
      "outputs": [],
      "source": [
        "def grover_oracle():\n",
        "    oracle = QuantumCircuit(2)\n",
        "    oracle.cz(0, 1)\n",
        "    return oracle\n",
        "\n",
        "def grover_diffuser():\n",
        "    diffuser = QuantumCircuit(2)\n",
        "    diffuser.h([0, 1])\n",
        "    diffuser.x([0, 1])\n",
        "    diffuser.cz(0, 1)\n",
        "    diffuser.x([0, 1])\n",
        "    diffuser.h([0, 1])\n",
        "    return diffuser\n"
      ]
    },
    {
      "cell_type": "code",
      "execution_count": 3,
      "id": "3ea72074-ae5a-44cf-aaee-85e859d86be7",
      "metadata": {
        "colab": {
          "base_uri": "https://localhost:8080/"
        },
        "id": "3ea72074-ae5a-44cf-aaee-85e859d86be7",
        "outputId": "8982a458-aa5a-41d6-80f6-ba4d0ed7e098"
      },
      "outputs": [
        {
          "output_type": "stream",
          "name": "stdout",
          "text": [
            "     ┌───┐┌──────────────┐┌──────────────┐┌─┐   \n",
            "q_0: ┤ H ├┤0             ├┤0             ├┤M├───\n",
            "     ├───┤│  circuit-163 ││  circuit-166 │└╥┘┌─┐\n",
            "q_1: ┤ H ├┤1             ├┤1             ├─╫─┤M├\n",
            "     └───┘└──────────────┘└──────────────┘ ║ └╥┘\n",
            "c: 2/══════════════════════════════════════╩══╩═\n",
            "                                           0  1 \n"
          ]
        }
      ],
      "source": [
        "qc = QuantumCircuit(2, 2)\n",
        "qc.h([0, 1])\n",
        "qc.append(grover_oracle().to_gate(), [0, 1])\n",
        "qc.append(grover_diffuser().to_gate(), [0, 1])\n",
        "qc.measure([0, 1], [0, 1])\n",
        "\n",
        "backend = Aer.get_backend('aer_simulator')\n",
        "transpiled = transpile(qc, backend)\n",
        "result = backend.run(transpiled).result()\n",
        "counts = result.get_counts()\n",
        "print(qc.draw(output='text'))\n",
        "plot_histogram(counts)\n",
        "plt.show()\n"
      ]
    },
    {
      "cell_type": "code",
      "execution_count": 3,
      "id": "b7c65bb7-1674-45a7-8d1e-fbe7868843e8",
      "metadata": {
        "id": "b7c65bb7-1674-45a7-8d1e-fbe7868843e8"
      },
      "outputs": [],
      "source": []
    }
  ],
  "metadata": {
    "kernelspec": {
      "display_name": "Python 3 (ipykernel)",
      "language": "python",
      "name": "python3"
    },
    "language_info": {
      "codemirror_mode": {
        "name": "ipython",
        "version": 3
      },
      "file_extension": ".py",
      "mimetype": "text/x-python",
      "name": "python",
      "nbconvert_exporter": "python",
      "pygments_lexer": "ipython3",
      "version": "3.12.4"
    },
    "colab": {
      "provenance": [],
      "include_colab_link": true
    }
  },
  "nbformat": 4,
  "nbformat_minor": 5
}