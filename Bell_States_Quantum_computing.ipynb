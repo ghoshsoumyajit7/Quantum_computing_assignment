{
  "cells": [
    {
      "cell_type": "markdown",
      "metadata": {
        "id": "view-in-github",
        "colab_type": "text"
      },
      "source": [
        "<a href=\"https://colab.research.google.com/github/ghoshsoumyajit7/Quantum_computing_assignment/blob/main/Bell_States_Quantum_computing.ipynb\" target=\"_parent\"><img src=\"https://colab.research.google.com/assets/colab-badge.svg\" alt=\"Open In Colab\"/></a>"
      ]
    },
    {
      "cell_type": "markdown",
      "id": "0784e2a2-c314-488e-96a0-5b0b4f42b324",
      "metadata": {
        "id": "0784e2a2-c314-488e-96a0-5b0b4f42b324"
      },
      "source": [
        "# Generation of All Four Bell States using Qiskit\n",
        "\n",
        "#### This notebook demonstrates how to create the four Bell States:\n",
        "#### - |Φ+⟩ = (|00⟩ + |11⟩)/√2  \n",
        "#### - |Φ-⟩ = (|00⟩ - |11⟩)/√2  \n",
        "#### - |Ψ+⟩ = (|01⟩ + |10⟩)/√2  \n",
        "#### - |Ψ-⟩ = (|01⟩ - |10⟩)/√2  "
      ]
    },
    {
      "cell_type": "code",
      "execution_count": 1,
      "id": "03c0da6a-9798-48be-9524-cf3001be5345",
      "metadata": {
        "colab": {
          "base_uri": "https://localhost:8080/"
        },
        "id": "03c0da6a-9798-48be-9524-cf3001be5345",
        "outputId": "00b42600-5fbb-45bb-f46d-117e0e42a98b"
      },
      "outputs": [
        {
          "output_type": "stream",
          "name": "stdout",
          "text": [
            "\u001b[2K   \u001b[90m━━━━━━━━━━━━━━━━━━━━━━━━━━━━━━━━━━━━━━━━\u001b[0m \u001b[32m6.5/6.5 MB\u001b[0m \u001b[31m37.0 MB/s\u001b[0m eta \u001b[36m0:00:00\u001b[0m\n",
            "\u001b[2K   \u001b[90m━━━━━━━━━━━━━━━━━━━━━━━━━━━━━━━━━━━━━━━━\u001b[0m \u001b[32m12.4/12.4 MB\u001b[0m \u001b[31m28.1 MB/s\u001b[0m eta \u001b[36m0:00:00\u001b[0m\n",
            "\u001b[2K   \u001b[90m━━━━━━━━━━━━━━━━━━━━━━━━━━━━━━━━━━━━━━━━\u001b[0m \u001b[32m2.1/2.1 MB\u001b[0m \u001b[31m40.7 MB/s\u001b[0m eta \u001b[36m0:00:00\u001b[0m\n",
            "\u001b[2K   \u001b[90m━━━━━━━━━━━━━━━━━━━━━━━━━━━━━━━━━━━━━━━━\u001b[0m \u001b[32m49.5/49.5 kB\u001b[0m \u001b[31m1.9 MB/s\u001b[0m eta \u001b[36m0:00:00\u001b[0m\n",
            "\u001b[2K   \u001b[90m━━━━━━━━━━━━━━━━━━━━━━━━━━━━━━━━━━━━━━━━\u001b[0m \u001b[32m49.7/49.7 MB\u001b[0m \u001b[31m12.1 MB/s\u001b[0m eta \u001b[36m0:00:00\u001b[0m\n",
            "\u001b[2K   \u001b[90m━━━━━━━━━━━━━━━━━━━━━━━━━━━━━━━━━━━━━━━━\u001b[0m \u001b[32m109.0/109.0 kB\u001b[0m \u001b[31m2.6 MB/s\u001b[0m eta \u001b[36m0:00:00\u001b[0m\n",
            "\u001b[?25h"
          ]
        }
      ],
      "source": [
        "!pip install qiskit qiskit-aer matplotlib --quiet\n",
        "from qiskit import QuantumCircuit, transpile\n",
        "from qiskit_aer import Aer\n",
        "from qiskit.visualization import plot_bloch_multivector, plot_histogram\n",
        "from qiskit.quantum_info import Statevector\n",
        "import matplotlib.pyplot as plt"
      ]
    },
    {
      "cell_type": "code",
      "execution_count": 2,
      "id": "9bf14c34-dec1-42f1-9105-bab781b01632",
      "metadata": {
        "id": "9bf14c34-dec1-42f1-9105-bab781b01632"
      },
      "outputs": [],
      "source": [
        "def generate_bell_state(i):\n",
        "\n",
        "    from qiskit import QuantumCircuit\n",
        "    qc = QuantumCircuit(2, 2)\n",
        "    qc.h(0)\n",
        "    qc.cx(0, 1)\n",
        "\n",
        "\n",
        "    if i == 1:  # Φ⁻\n",
        "        qc.z(0)\n",
        "    elif i == 2:  # Ψ⁺\n",
        "        qc.x(1)\n",
        "    elif i == 3:  # Ψ⁻\n",
        "        qc.z(0)\n",
        "        qc.x(1)\n",
        "\n",
        "    qc.measure_all()\n",
        "    return qc"
      ]
    },
    {
      "cell_type": "code",
      "execution_count": 3,
      "id": "8aa53077-aa16-40fa-bdd9-a0a7b20de234",
      "metadata": {
        "colab": {
          "base_uri": "https://localhost:8080/"
        },
        "id": "8aa53077-aa16-40fa-bdd9-a0a7b20de234",
        "outputId": "6d394256-91d5-4638-af80-4d157b498410"
      },
      "outputs": [
        {
          "output_type": "stream",
          "name": "stdout",
          "text": [
            "Bell State |Φ⁺⟩:\n",
            "        ┌───┐      ░ ┌─┐   \n",
            "   q_0: ┤ H ├──■───░─┤M├───\n",
            "        └───┘┌─┴─┐ ░ └╥┘┌─┐\n",
            "   q_1: ─────┤ X ├─░──╫─┤M├\n",
            "             └───┘ ░  ║ └╥┘\n",
            "   c: 2/══════════════╬══╬═\n",
            "                      ║  ║ \n",
            "meas: 2/══════════════╩══╩═\n",
            "                      0  1 \n",
            "Bell State |Φ⁻⟩:\n",
            "        ┌───┐     ┌───┐ ░ ┌─┐   \n",
            "   q_0: ┤ H ├──■──┤ Z ├─░─┤M├───\n",
            "        └───┘┌─┴─┐└───┘ ░ └╥┘┌─┐\n",
            "   q_1: ─────┤ X ├──────░──╫─┤M├\n",
            "             └───┘      ░  ║ └╥┘\n",
            "   c: 2/═══════════════════╬══╬═\n",
            "                           ║  ║ \n",
            "meas: 2/═══════════════════╩══╩═\n",
            "                           0  1 \n",
            "Bell State |Ψ⁺⟩:\n",
            "        ┌───┐           ░ ┌─┐   \n",
            "   q_0: ┤ H ├──■────────░─┤M├───\n",
            "        └───┘┌─┴─┐┌───┐ ░ └╥┘┌─┐\n",
            "   q_1: ─────┤ X ├┤ X ├─░──╫─┤M├\n",
            "             └───┘└───┘ ░  ║ └╥┘\n",
            "   c: 2/═══════════════════╬══╬═\n",
            "                           ║  ║ \n",
            "meas: 2/═══════════════════╩══╩═\n",
            "                           0  1 \n",
            "Bell State |Ψ⁻⟩:\n",
            "        ┌───┐     ┌───┐ ░ ┌─┐   \n",
            "   q_0: ┤ H ├──■──┤ Z ├─░─┤M├───\n",
            "        └───┘┌─┴─┐├───┤ ░ └╥┘┌─┐\n",
            "   q_1: ─────┤ X ├┤ X ├─░──╫─┤M├\n",
            "             └───┘└───┘ ░  ║ └╥┘\n",
            "   c: 2/═══════════════════╬══╬═\n",
            "                           ║  ║ \n",
            "meas: 2/═══════════════════╩══╩═\n",
            "                           0  1 \n"
          ]
        }
      ],
      "source": [
        "states = ['Φ⁺', 'Φ⁻', 'Ψ⁺', 'Ψ⁻']\n",
        "backend = Aer.get_backend('aer_simulator')\n",
        "\n",
        "for i in range(4):\n",
        "    print(f\"Bell State |{states[i]}⟩:\")\n",
        "    qc = generate_bell_state(i)\n",
        "    print(qc.draw(output='text'))\n",
        "    transpiled = transpile(qc, backend)\n",
        "    result = backend.run(transpiled).result()\n",
        "    counts = result.get_counts()\n",
        "    plot_histogram(counts)\n",
        "    plt.show()\n"
      ]
    },
    {
      "cell_type": "code",
      "execution_count": null,
      "id": "cf6dd1e5-fba1-494a-9803-a97f6d3229b3",
      "metadata": {
        "id": "cf6dd1e5-fba1-494a-9803-a97f6d3229b3"
      },
      "outputs": [],
      "source": []
    }
  ],
  "metadata": {
    "kernelspec": {
      "display_name": "Python 3 (ipykernel)",
      "language": "python",
      "name": "python3"
    },
    "language_info": {
      "codemirror_mode": {
        "name": "ipython",
        "version": 3
      },
      "file_extension": ".py",
      "mimetype": "text/x-python",
      "name": "python",
      "nbconvert_exporter": "python",
      "pygments_lexer": "ipython3",
      "version": "3.12.4"
    },
    "colab": {
      "provenance": [],
      "include_colab_link": true
    }
  },
  "nbformat": 4,
  "nbformat_minor": 5
}