{
  "cells": [
    {
      "cell_type": "markdown",
      "metadata": {
        "id": "view-in-github",
        "colab_type": "text"
      },
      "source": [
        "<a href=\"https://colab.research.google.com/github/ghoshsoumyajit7/Quantum_computing_assignment/blob/main/Deutsch_Jozsa(3qubit).ipynb\" target=\"_parent\"><img src=\"https://colab.research.google.com/assets/colab-badge.svg\" alt=\"Open In Colab\"/></a>"
      ]
    },
    {
      "cell_type": "markdown",
      "id": "bca82930-ce6b-4cd6-b130-a8968a71123e",
      "metadata": {
        "id": "bca82930-ce6b-4cd6-b130-a8968a71123e"
      },
      "source": [
        "# Deutsch-Jozsa Algorithm for 3-Qubit Function (Constant or Balanced)\n",
        "\n",
        "\n"
      ]
    },
    {
      "cell_type": "code",
      "execution_count": 1,
      "id": "16949bf8-b8ef-45a7-aaf3-8c07ae5ecc93",
      "metadata": {
        "colab": {
          "base_uri": "https://localhost:8080/"
        },
        "id": "16949bf8-b8ef-45a7-aaf3-8c07ae5ecc93",
        "outputId": "20183563-28f6-440b-8d4f-2980ce356681"
      },
      "outputs": [
        {
          "output_type": "stream",
          "name": "stdout",
          "text": [
            "\u001b[2K   \u001b[90m━━━━━━━━━━━━━━━━━━━━━━━━━━━━━━━━━━━━━━━━\u001b[0m \u001b[32m6.5/6.5 MB\u001b[0m \u001b[31m35.2 MB/s\u001b[0m eta \u001b[36m0:00:00\u001b[0m\n",
            "\u001b[2K   \u001b[90m━━━━━━━━━━━━━━━━━━━━━━━━━━━━━━━━━━━━━━━━\u001b[0m \u001b[32m12.4/12.4 MB\u001b[0m \u001b[31m25.0 MB/s\u001b[0m eta \u001b[36m0:00:00\u001b[0m\n",
            "\u001b[2K   \u001b[90m━━━━━━━━━━━━━━━━━━━━━━━━━━━━━━━━━━━━━━━━\u001b[0m \u001b[32m2.1/2.1 MB\u001b[0m \u001b[31m25.6 MB/s\u001b[0m eta \u001b[36m0:00:00\u001b[0m\n",
            "\u001b[2K   \u001b[90m━━━━━━━━━━━━━━━━━━━━━━━━━━━━━━━━━━━━━━━━\u001b[0m \u001b[32m49.5/49.5 kB\u001b[0m \u001b[31m493.8 kB/s\u001b[0m eta \u001b[36m0:00:00\u001b[0m\n",
            "\u001b[2K   \u001b[90m━━━━━━━━━━━━━━━━━━━━━━━━━━━━━━━━━━━━━━━━\u001b[0m \u001b[32m49.7/49.7 MB\u001b[0m \u001b[31m10.8 MB/s\u001b[0m eta \u001b[36m0:00:00\u001b[0m\n",
            "\u001b[2K   \u001b[90m━━━━━━━━━━━━━━━━━━━━━━━━━━━━━━━━━━━━━━━━\u001b[0m \u001b[32m109.0/109.0 kB\u001b[0m \u001b[31m4.3 MB/s\u001b[0m eta \u001b[36m0:00:00\u001b[0m\n",
            "\u001b[?25h"
          ]
        }
      ],
      "source": [
        "!pip install qiskit qiskit-aer matplotlib --quiet\n",
        "\n",
        "from qiskit import QuantumCircuit, transpile\n",
        "from qiskit_aer import Aer\n",
        "from qiskit.visualization import plot_histogram\n",
        "import matplotlib.pyplot as plt"
      ]
    },
    {
      "cell_type": "code",
      "execution_count": 2,
      "id": "cab88d25-51ff-4c9d-a589-3e5e71a6dd36",
      "metadata": {
        "id": "cab88d25-51ff-4c9d-a589-3e5e71a6dd36"
      },
      "outputs": [],
      "source": [
        "def deutsch_jozsa_oracle(case='balanced'):\n",
        "    oracle = QuantumCircuit(4)\n",
        "\n",
        "    if case == 'balanced':\n",
        "        oracle.cx(0, 3)\n",
        "        oracle.cx(1, 3)\n",
        "        oracle.cx(2, 3)\n",
        "    elif case == 'constant':\n",
        "        oracle.x(3)  # Always returns 1 (constant)\n",
        "\n",
        "    return oracle\n"
      ]
    },
    {
      "cell_type": "code",
      "execution_count": 3,
      "id": "48d50328-6a04-47f9-ac8e-64ebabad7e80",
      "metadata": {
        "colab": {
          "base_uri": "https://localhost:8080/"
        },
        "id": "48d50328-6a04-47f9-ac8e-64ebabad7e80",
        "outputId": "844815ed-c0d4-4b04-839d-2cfd70e35588"
      },
      "outputs": [
        {
          "output_type": "stream",
          "name": "stdout",
          "text": [
            "Function is constant:\n",
            "     ┌───┐     ┌──────────────┐┌───┐┌─┐      \n",
            "q_0: ┤ H ├─────┤0             ├┤ H ├┤M├──────\n",
            "     ├───┤     │              │├───┤└╥┘┌─┐   \n",
            "q_1: ┤ H ├─────┤1             ├┤ H ├─╫─┤M├───\n",
            "     ├───┤     │  circuit-163 │├───┤ ║ └╥┘┌─┐\n",
            "q_2: ┤ H ├─────┤2             ├┤ H ├─╫──╫─┤M├\n",
            "     ├───┤┌───┐│              │└───┘ ║  ║ └╥┘\n",
            "q_3: ┤ X ├┤ H ├┤3             ├──────╫──╫──╫─\n",
            "     └───┘└───┘└──────────────┘      ║  ║  ║ \n",
            "c: 3/════════════════════════════════╩══╩══╩═\n",
            "                                     0  1  2 \n",
            "Function is balanced:\n",
            "     ┌───┐     ┌──────────────┐┌───┐┌─┐      \n",
            "q_0: ┤ H ├─────┤0             ├┤ H ├┤M├──────\n",
            "     ├───┤     │              │├───┤└╥┘┌─┐   \n",
            "q_1: ┤ H ├─────┤1             ├┤ H ├─╫─┤M├───\n",
            "     ├───┤     │  circuit-168 │├───┤ ║ └╥┘┌─┐\n",
            "q_2: ┤ H ├─────┤2             ├┤ H ├─╫──╫─┤M├\n",
            "     ├───┤┌───┐│              │└───┘ ║  ║ └╥┘\n",
            "q_3: ┤ X ├┤ H ├┤3             ├──────╫──╫──╫─\n",
            "     └───┘└───┘└──────────────┘      ║  ║  ║ \n",
            "c: 3/════════════════════════════════╩══╩══╩═\n",
            "                                     0  1  2 \n"
          ]
        }
      ],
      "source": [
        "def deutsch_jozsa_circuit(case='balanced'):\n",
        "    qc = QuantumCircuit(4, 3)\n",
        "\n",
        "    # Initialize input qubits to superposition and ancilla to |1⟩\n",
        "    qc.x(3)\n",
        "    qc.h([0, 1, 2, 3])\n",
        "\n",
        "    # Append oracle\n",
        "    qc.append(deutsch_jozsa_oracle(case).to_gate(), [0, 1, 2, 3])\n",
        "\n",
        "    # Apply Hadamard again to input qubits\n",
        "    qc.h([0, 1, 2])\n",
        "\n",
        "    # Measurement\n",
        "    qc.measure([0, 1, 2], [0, 1, 2])\n",
        "    return qc\n",
        "\n",
        "# Simulate\n",
        "for case in ['constant', 'balanced']:\n",
        "    print(f\"Function is {case}:\")\n",
        "    qc = deutsch_jozsa_circuit(case)\n",
        "    backend = Aer.get_backend('aer_simulator')\n",
        "    transpiled = transpile(qc, backend)\n",
        "    result = backend.run(transpiled).result()\n",
        "    counts = result.get_counts()\n",
        "    print(qc.draw(output='text'))\n",
        "    plot_histogram(counts)\n",
        "    plt.show()\n"
      ]
    },
    {
      "cell_type": "code",
      "execution_count": null,
      "id": "e55b2b19-4afe-45e8-9683-34f6dac37eb5",
      "metadata": {
        "id": "e55b2b19-4afe-45e8-9683-34f6dac37eb5"
      },
      "outputs": [],
      "source": []
    }
  ],
  "metadata": {
    "kernelspec": {
      "display_name": "Python 3 (ipykernel)",
      "language": "python",
      "name": "python3"
    },
    "language_info": {
      "codemirror_mode": {
        "name": "ipython",
        "version": 3
      },
      "file_extension": ".py",
      "mimetype": "text/x-python",
      "name": "python",
      "nbconvert_exporter": "python",
      "pygments_lexer": "ipython3",
      "version": "3.12.4"
    },
    "colab": {
      "provenance": [],
      "include_colab_link": true
    }
  },
  "nbformat": 4,
  "nbformat_minor": 5
}